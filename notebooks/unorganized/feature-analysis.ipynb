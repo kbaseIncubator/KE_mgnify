{
 "cells": [
  {
   "cell_type": "code",
   "execution_count": 62,
   "metadata": {},
   "outputs": [],
   "source": [
    "import pandas as pd\n",
    "import os\n",
    "import re\n",
    "import json"
   ]
  },
  {
   "cell_type": "code",
   "execution_count": 112,
   "metadata": {},
   "outputs": [],
   "source": [
    "base_dir = 'data/mgnify/studies'\n",
    "\n",
    "def gen_study_dir_contents():\n",
    "    \"\"\"Iterate over every study directory and yield all file paths within each one.\"\"\"\n",
    "    for name in os.listdir(base_dir):\n",
    "        study_dir = os.path.join(base_dir, name)\n",
    "        file_paths = []\n",
    "        ana_path = os.path.join(study_dir, 'analyses.json')\n",
    "        with open(ana_path) as fd:\n",
    "            ana_json = json.load(fd)\n",
    "        exp_types = []\n",
    "        for analysis in ana_json['data']:\n",
    "            exp_type = analysis['attributes']['experiment-type']\n",
    "            sample_id = analysis['relationships']['sample']['data']['id']\n",
    "            exp_types.append((exp_type, sample_id))\n",
    "        for name2 in os.listdir(study_dir):\n",
    "            file_paths.append(os.path.join(study_dir, name2))\n",
    "        yield (study_dir, exp_types, file_paths)\n",
    "\n",
    "        \n",
    "def gen_study_files_match(pattern):\n",
    "    \"\"\"Generate all files within study directories matching a substring pattern\"\"\"\n",
    "    for (study_dir, exp_types, file_paths) in gen_study_dir_contents():\n",
    "        for file_path in file_paths:\n",
    "            if re.search(pattern, file_path):\n",
    "                yield file_path, exp_types\n",
    "\n",
    "\n",
    "def count_features(key, tsv_paths):\n",
    "    \"\"\"Count all unique features\"\"\"\n",
    "    features = dict()\n",
    "    for (path, exp_types) in tsv_paths:\n",
    "        df = pd.read_csv(path, sep='\\t')\n",
    "        if key not in df:\n",
    "            print(f'\"{key}\" column not found in this table: {path}')\n",
    "            continue\n",
    "        if exp_type not in features:\n",
    "            features[exp_type] = set()\n",
    "        features[exp_type].update(set(df[key]))\n",
    "    counts = {key: len(val) for key, val in features.items()}\n",
    "    print(json.dumps(counts, indent=2))\n",
    "    # print(features)\n",
    "\n",
    "\n",
    "def count_examples(tsv_paths):\n",
    "    \"\"\"Count total number of examples (eg samples or runs) grouped by experiment type\"\"\"\n",
    "    examples = dict()\n",
    "    # Regex pattern for column names that represent mgnify ids\n",
    "    pattern = r'^[A-Z]+\\d+$'\n",
    "    for (path, exp_type) in tsv_paths:\n",
    "        df = pd.read_csv(path, sep='\\t')\n",
    "        if exp_type not in features:\n",
    "            examples[exp_type] = 0\n",
    "        example_count = len([key for key in df.keys() if re.match(pattern, key)])\n",
    "        examples[exp_type] += example_count\n",
    "    return examples"
   ]
  },
  {
   "cell_type": "code",
   "execution_count": 96,
   "metadata": {},
   "outputs": [
    {
     "name": "stdout",
     "output_type": "stream",
     "text": [
      "Phylum file count: 2716\n",
      "Example: ('data/mgnify/studies/MGYS00002035/ERP104197_phylum_taxonomy_abundances_SSU_v5.0.tsv', 'assembly')\n"
     ]
    }
   ],
   "source": [
    "phylum_tsv_paths = list(gen_study_files_match('.+phylum_taxonomy.+\\.tsv$'))\n",
    "print('Phylum file count:', len(phylum_tsv_paths))\n",
    "print('Example:', phylum_tsv_paths[-1])"
   ]
  },
  {
   "cell_type": "code",
   "execution_count": 109,
   "metadata": {},
   "outputs": [
    {
     "name": "stdout",
     "output_type": "stream",
     "text": [
      "Full file count: 2715\n",
      "Example: ('data/mgnify/studies/MGYS00002076/SRP076308_taxonomy_abundances_SSU_v4.0.tsv', 'unknown')\n"
     ]
    }
   ],
   "source": [
    "full_tax_tsv_paths = list(gen_study_files_match(r'.+\\d_taxonomy_abundances_.+\\.tsv$'))\n",
    "print('Full file count:', len(full_tax_tsv_paths))\n",
    "print('Example:', full_tax_tsv_paths[0])"
   ]
  },
  {
   "cell_type": "code",
   "execution_count": 110,
   "metadata": {},
   "outputs": [
    {
     "name": "stdout",
     "output_type": "stream",
     "text": [
      "Gene Ontology file count: 1990\n",
      "Example: ('data/mgnify/studies/MGYS00002076/SRP076308_GO_abundances_v4.0.tsv', 'unknown')\n"
     ]
    }
   ],
   "source": [
    "go_tsv_paths = list(gen_study_files_match(r'.+GO_abundances.+\\.tsv$'))\n",
    "print('Gene Ontology file count:', len(go_tsv_paths))\n",
    "print('Example:', go_tsv_paths[0])"
   ]
  },
  {
   "cell_type": "code",
   "execution_count": 106,
   "metadata": {},
   "outputs": [
    {
     "name": "stdout",
     "output_type": "stream",
     "text": [
      "Phylum-only feature stats:\n",
      "\"phylum\" column not found in this table: data/mgnify/studies/MGYS00002264/SRP049210_phylum_taxonomy_abundances_SSU_v4.1.tsv\n",
      "\"phylum\" column not found in this table: data/mgnify/studies/MGYS00002088/ERP105559_phylum_taxonomy_abundances_SSU_v4.0.tsv\n",
      "\"phylum\" column not found in this table: data/mgnify/studies/MGYS00003194/SRP114822_phylum_taxonomy_abundances_SSU_v4.1.tsv\n",
      "\"phylum\" column not found in this table: data/mgnify/studies/MGYS00002361/SRP126531_phylum_taxonomy_abundances_SSU_v4.1.tsv\n",
      "\"phylum\" column not found in this table: data/mgnify/studies/MGYS00002481/SRP091049_phylum_taxonomy_abundances_SSU_v4.1.tsv\n",
      "\"phylum\" column not found in this table: data/mgnify/studies/MGYS00005137/SRP186503_phylum_taxonomy_abundances_SSU_v4.1.tsv\n",
      "\"phylum\" column not found in this table: data/mgnify/studies/MGYS00001312/ERP015409_phylum_taxonomy_abundances_SSU_v4.1.tsv\n",
      "\"phylum\" column not found in this table: data/mgnify/studies/MGYS00005142/ERP013105_phylum_taxonomy_abundances_SSU_v4.1.tsv\n",
      "\"phylum\" column not found in this table: data/mgnify/studies/MGYS00005105/SRP173959_phylum_taxonomy_abundances_SSU_v4.1.tsv\n",
      "\"phylum\" column not found in this table: data/mgnify/studies/MGYS00002362/SRP127972_phylum_taxonomy_abundances_SSU_v4.1.tsv\n",
      "\"phylum\" column not found in this table: data/mgnify/studies/MGYS00001482/ERP006155_phylum_taxonomy_abundances_SSU_v4.1.tsv\n",
      "\"phylum\" column not found in this table: data/mgnify/studies/MGYS00005100/ERP111348_phylum_taxonomy_abundances_SSU_v4.1.tsv\n",
      "\"phylum\" column not found in this table: data/mgnify/studies/MGYS00001869/ERP016733_phylum_taxonomy_abundances_SSU_v4.1.tsv\n",
      "\"phylum\" column not found in this table: data/mgnify/studies/MGYS00005107/SRP114403_phylum_taxonomy_abundances_SSU_v4.1.tsv\n",
      "{\n",
      "  \"unknown\": 179,\n",
      "  \"amplicon\": 223,\n",
      "  \"assembly\": 188,\n",
      "  \"metagenomic\": 210,\n",
      "  \"metatranscriptomic\": 202,\n",
      "  \"metatranscriptomic,amplicon\": 101,\n",
      "  \"metagenomic,amplicon\": 193,\n",
      "  \"metagenomic,unknown\": 110,\n",
      "  \"metagenomic,assembly\": 33,\n",
      "  \"metabarcoding\": 29,\n",
      "  \"metatranscriptomic,metagenomic\": 177,\n",
      "  \"assembly,metagenomic,amplicon\": 110,\n",
      "  \"unknown,amplicon\": 62,\n",
      "  \"metagenomic,metatranscriptomic,assembly\": 37,\n",
      "  \"metabarcoding,amplicon\": 4\n",
      "}\n"
     ]
    }
   ],
   "source": [
    "print('Phylum-only feature stats:')\n",
    "count_features('phylum', phylum_tsv_paths)"
   ]
  },
  {
   "cell_type": "code",
   "execution_count": 111,
   "metadata": {},
   "outputs": [
    {
     "name": "stdout",
     "output_type": "stream",
     "text": [
      "Full taxonomy feature stats:\n",
      "\"#SampleID\" column not found in this table: data/mgnify/studies/MGYS00002264/SRP049210_taxonomy_abundances_SSU_v4.1.tsv\n",
      "\"#SampleID\" column not found in this table: data/mgnify/studies/MGYS00002088/ERP105559_taxonomy_abundances_SSU_v4.0.tsv\n",
      "\"#SampleID\" column not found in this table: data/mgnify/studies/MGYS00003194/SRP114822_taxonomy_abundances_SSU_v4.1.tsv\n",
      "\"#SampleID\" column not found in this table: data/mgnify/studies/MGYS00002361/SRP126531_taxonomy_abundances_SSU_v4.1.tsv\n",
      "\"#SampleID\" column not found in this table: data/mgnify/studies/MGYS00002481/SRP091049_taxonomy_abundances_SSU_v4.1.tsv\n",
      "\"#SampleID\" column not found in this table: data/mgnify/studies/MGYS00001312/ERP015409_taxonomy_abundances_SSU_v4.1.tsv\n",
      "\"#SampleID\" column not found in this table: data/mgnify/studies/MGYS00005142/ERP013105_taxonomy_abundances_SSU_v4.1.tsv\n",
      "\"#SampleID\" column not found in this table: data/mgnify/studies/MGYS00005105/SRP173959_taxonomy_abundances_SSU_v4.1.tsv\n",
      "\"#SampleID\" column not found in this table: data/mgnify/studies/MGYS00002362/SRP127972_taxonomy_abundances_SSU_v4.1.tsv\n",
      "\"#SampleID\" column not found in this table: data/mgnify/studies/MGYS00001482/ERP006155_taxonomy_abundances_SSU_v4.1.tsv\n",
      "\"#SampleID\" column not found in this table: data/mgnify/studies/MGYS00005100/ERP111348_taxonomy_abundances_SSU_v4.1.tsv\n",
      "\"#SampleID\" column not found in this table: data/mgnify/studies/MGYS00001869/ERP016733_taxonomy_abundances_SSU_v4.1.tsv\n",
      "\"#SampleID\" column not found in this table: data/mgnify/studies/MGYS00005107/SRP114403_taxonomy_abundances_SSU_v4.1.tsv\n",
      "{\n",
      "  \"unknown\": 10924,\n",
      "  \"amplicon\": 59596,\n",
      "  \"assembly\": 8123,\n",
      "  \"metagenomic\": 23418,\n",
      "  \"metatranscriptomic\": 19556,\n",
      "  \"metatranscriptomic,amplicon\": 3352,\n",
      "  \"metagenomic,amplicon\": 27918,\n",
      "  \"metagenomic,unknown\": 3010,\n",
      "  \"metagenomic,assembly\": 635,\n",
      "  \"metabarcoding\": 194,\n",
      "  \"metatranscriptomic,metagenomic\": 11295,\n",
      "  \"assembly,metagenomic,amplicon\": 5066,\n",
      "  \"unknown,amplicon\": 766,\n",
      "  \"metagenomic,metatranscriptomic,assembly\": 596,\n",
      "  \"metabarcoding,amplicon\": 7\n",
      "}\n"
     ]
    }
   ],
   "source": [
    "print('Full taxonomy feature stats:')\n",
    "count_features('#SampleID', full_tax_tsv_paths)"
   ]
  },
  {
   "cell_type": "code",
   "execution_count": 113,
   "metadata": {},
   "outputs": [
    {
     "name": "stdout",
     "output_type": "stream",
     "text": [
      "Full Gene Ontology feature stats:\n",
      "\"GO\" column not found in this table: data/mgnify/studies/MGYS00002264/SRP049210_GO_abundances_v4.1.tsv\n",
      "\"GO\" column not found in this table: data/mgnify/studies/MGYS00002088/ERP105559_GO_abundances_v4.0.tsv\n",
      "\"GO\" column not found in this table: data/mgnify/studies/MGYS00003194/SRP114822_GO_abundances_v4.1.tsv\n",
      "\"GO\" column not found in this table: data/mgnify/studies/MGYS00000296/SRP003580_GO_abundances_v1.0.tsv\n",
      "\"GO\" column not found in this table: data/mgnify/studies/MGYS00000296/SRP003580_GO_abundances_v2.0.tsv\n",
      "\"GO\" column not found in this table: data/mgnify/studies/MGYS00001312/ERP015409_GO_abundances_v4.1.tsv\n",
      "\"GO\" column not found in this table: data/mgnify/studies/MGYS00001482/ERP006155_GO_abundances_v4.1.tsv\n",
      "\"GO\" column not found in this table: data/mgnify/studies/MGYS00001635/ERP003497_GO_abundances_v3.0.tsv\n",
      "\"GO\" column not found in this table: data/mgnify/studies/MGYS00001869/ERP016733_GO_abundances_v4.1.tsv\n",
      "\"GO\" column not found in this table: data/mgnify/studies/MGYS00001869/ERP016733_GO_abundances_v3.0.tsv\n",
      "\"GO\" column not found in this table: data/mgnify/studies/MGYS00005107/SRP114403_GO_abundances_v4.1.tsv\n",
      "{\n",
      "  \"unknown\": 3360,\n",
      "  \"metagenomic\": 4285,\n",
      "  \"assembly\": 4299,\n",
      "  \"metatranscriptomic\": 3707,\n",
      "  \"amplicon\": 3321,\n",
      "  \"metabarcoding,amplicon\": 608,\n",
      "  \"metabarcoding\": 2804,\n",
      "  \"metatranscriptomic,amplicon\": 2584,\n",
      "  \"metagenomic,amplicon\": 3526,\n",
      "  \"metagenomic,unknown\": 3189,\n",
      "  \"metatranscriptomic,metagenomic\": 3636,\n",
      "  \"metagenomic,assembly\": 3758,\n",
      "  \"metatranscriptomic,metagenomic,amplicon\": 2172,\n",
      "  \"assembly,metagenomic,amplicon\": 3100,\n",
      "  \"unknown,amplicon\": 2313,\n",
      "  \"assembly,metagenomic\": 2759,\n",
      "  \"metagenomic,metatranscriptomic,assembly\": 3217,\n",
      "  \"assembly,amplicon\": 2078\n",
      "}\n"
     ]
    }
   ],
   "source": [
    "print('Full Gene Ontology feature stats:')\n",
    "count_features('GO', go_tsv_paths)"
   ]
  },
  {
   "cell_type": "code",
   "execution_count": 114,
   "metadata": {},
   "outputs": [
    {
     "name": "stdout",
     "output_type": "stream",
     "text": [
      "Phylum abundance examples (total counts of run or samples)\n",
      "{\n",
      "  \"unknown\": 7,\n",
      "  \"amplicon\": 39,\n",
      "  \"assembly\": 0,\n",
      "  \"metagenomic\": 2,\n",
      "  \"metatranscriptomic\": 96,\n",
      "  \"metatranscriptomic,amplicon\": 0,\n",
      "  \"metagenomic,amplicon\": 18,\n",
      "  \"metagenomic,unknown\": 12,\n",
      "  \"metagenomic,assembly\": 16,\n",
      "  \"metabarcoding\": 1,\n",
      "  \"metatranscriptomic,metagenomic\": 2,\n",
      "  \"assembly,metagenomic,amplicon\": 46,\n",
      "  \"unknown,amplicon\": 4,\n",
      "  \"metagenomic,metatranscriptomic,assembly\": 1,\n",
      "  \"metabarcoding,amplicon\": 0\n",
      "}\n"
     ]
    }
   ],
   "source": [
    "print(\"Phylum abundance examples (total counts of run or samples)\")\n",
    "print(json.dumps(count_examples(phylum_tsv_paths), indent=2))"
   ]
  }
 ],
 "metadata": {
  "kernelspec": {
   "display_name": "Python 3",
   "language": "python",
   "name": "python3"
  },
  "language_info": {
   "codemirror_mode": {
    "name": "ipython",
    "version": 3
   },
   "file_extension": ".py",
   "mimetype": "text/x-python",
   "name": "python",
   "nbconvert_exporter": "python",
   "pygments_lexer": "ipython3",
   "version": "3.7.4"
  }
 },
 "nbformat": 4,
 "nbformat_minor": 4
}
